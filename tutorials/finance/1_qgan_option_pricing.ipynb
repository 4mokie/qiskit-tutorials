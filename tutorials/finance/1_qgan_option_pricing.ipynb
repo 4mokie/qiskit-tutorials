{
 "cells": [
  {
   "cell_type": "markdown",
   "metadata": {},
   "source": [
    "# _*Qiskit Finance: qGAN Option Pricing*_ \n",
    "\n",
    "The latest version of this notebook is available on https://github.com/Qiskit/qiskit-iqx-tutorials.\n",
    "\n",
    "***\n",
    "## Contributors\n",
    "Christa Zoufal<sup>[1,2]</sup>, Stefan Woerner<sup>[1]</sup>\n",
    "### Affiliation\n",
    "- <sup>[1]</sup>IBMQ\n",
    "- <sup>[2]</sup>ETH Zurich\n",
    "\n",
    "## Introduction\n",
    "In this notebook, we discuss how a Quantum Machine Learning Algorithm, namely a quantum Generative Adversarial Network (qGAN), can facilitate the pricing of a European call option. More specifically, a qGAN can be trained such that a quantum circuit models the spot price of an asset underlying a European call option. The resulting model can then be integrated into a Quantum Amplitude Estimation based algorithm to evaluate the expected payoff - see [European Call Option Pricing](../simulation/european_call_option_pricing.ipynb). <br/>\n",
    "For further details on learning and loading random distributions by training a qGAN please refer to <a href=\"https://arxiv.org/abs/1904.00043\">Quantum Generative Adversarial Networks for Learning and Loading Random Distributions. Zoufal, Lucchi, Woerner. 2019.</a>"
   ]
  },
  {
   "cell_type": "code",
   "execution_count": 1,
   "metadata": {
    "ExecuteTime": {
     "end_time": "2020-07-13T20:54:15.112855Z",
     "start_time": "2020-07-13T20:54:04.404067Z"
    }
   },
   "outputs": [],
   "source": [
    "import matplotlib.pyplot as plt\n",
    "%matplotlib inline\n",
    "import numpy as np\n",
    "from qiskit.circuit import ParameterVector\n",
    "from qiskit.aqua.algorithms import AmplitudeEstimation\n",
    "from qiskit.finance.components.uncertainty_problems import EuropeanCallExpectedValue\n",
    "from qiskit.aqua.components.uncertainty_models import UnivariateVariationalDistribution, NormalDistribution\n",
    "from qiskit.aqua.components.variational_forms import RY\n",
    "from qiskit import QuantumRegister, QuantumCircuit\n",
    "from qiskit.aqua.components.initial_states import Custom\n",
    "\n",
    "from qiskit.aqua import aqua_globals, QuantumInstance\n",
    "\n",
    "from qiskit import Aer"
   ]
  },
  {
   "cell_type": "markdown",
   "metadata": {},
   "source": [
    "### Uncertainty Model\n",
    "\n",
    "The Black-Scholes model assumes that the spot price at maturity $S_T$ for a European call option is log-normally distributed. Thus, we can train a qGAN on samples from a log-normal distribution and use the result as an uncertainty model underlying the option. A notebook that explains the implementation of a qGAN to learn and load a random distribution is presented in [qGANs for Loading Random Distributions](../../aqua/machine_learning/qgans_for_loading_random_distributions.ipynb). <br/>\n",
    "In the following, we construct a quantum circuit that loads the uncertainty model. The circuit output reads \n",
    "\n",
    "$$ \\big| g_{\\theta}\\rangle = \\sum_{j=0}^{2^n-1}\\sqrt{p_{\\theta}^{j}} \\big| j \\rangle , $$\n",
    "\n",
    "where the probabilities $p_{\\theta}^{j}$, for $j\\in \\left\\{0, \\ldots, {2^n-1} \\right\\}$, represent a model of the target distribution."
   ]
  },
  {
   "cell_type": "code",
   "execution_count": 2,
   "metadata": {
    "ExecuteTime": {
     "end_time": "2020-07-13T20:54:15.146155Z",
     "start_time": "2020-07-13T20:54:15.115128Z"
    }
   },
   "outputs": [
    {
     "name": "stderr",
     "output_type": "stream",
     "text": [
      "/opt/miniconda3/envs/qiskit/lib/python3.7/site-packages/ipykernel_launcher.py:19: DeprecationWarning: The qiskit.aqua.components.variational_forms.RY object is deprecated as of 0.7.0 and will be removed no sooner than 3 months after the release. You should use qiskit.circuit.library.RealAmplitudes (uses CX entangling) or qiskit.circuit.library.TwoLocal instead.\n"
     ]
    }
   ],
   "source": [
    "# Set upper and lower data values\n",
    "bounds = np.array([0.,7.])\n",
    "# Set number of qubits used in the uncertainty model\n",
    "num_qubits = [3]\n",
    "\n",
    "# Set entangler map\n",
    "entangler_map = []\n",
    "for i in range(sum(num_qubits)):\n",
    "    entangler_map.append([i, int(np.mod(i+1, sum(num_qubits)))])\n",
    "\n",
    "# Load the trained circuit parameters\n",
    "g_params = [0.29399714, 0.38853322, 0.9557694,  0.07245791, 6.02626428, 0.13537225]\n",
    "# Set an initial state for the generator circuit\n",
    "init_dist = NormalDistribution(int(sum(num_qubits)), mu=1., sigma=1., low=bounds[0], high=bounds[1])\n",
    "init_distribution = np.sqrt(init_dist.probabilities)\n",
    "init_distribution = Custom(num_qubits=sum(num_qubits), state_vector=init_distribution)\n",
    "\n",
    "var_form = RY(int(np.sum(num_qubits)), depth=1, initial_state=init_distribution,\n",
    "              entangler_map=entangler_map, entanglement_gate='cz')\n",
    "theta = ParameterVector('θ', var_form.num_parameters)\n",
    "var_form = var_form.construct_circuit(theta)\n",
    "# Set generator circuit\n",
    "g_circuit = UnivariateVariationalDistribution(int(sum(num_qubits)), var_form, g_params,\n",
    "                                              low=bounds[0], high=bounds[1])\n",
    "g_circuit._var_form_params = theta\n",
    "# construct circuit factory for uncertainty model\n",
    "uncertainty_model = g_circuit\n"
   ]
  },
  {
   "cell_type": "markdown",
   "metadata": {},
   "source": [
    "### Evaluate Expected Payoff\n",
    "Now, the trained uncertainty model can be used to evaluate the expectation value of the option's payoff function with Quantum Amplitude Estimation."
   ]
  },
  {
   "cell_type": "code",
   "execution_count": 3,
   "metadata": {
    "ExecuteTime": {
     "end_time": "2020-07-13T20:54:15.153755Z",
     "start_time": "2020-07-13T20:54:15.149598Z"
    }
   },
   "outputs": [],
   "source": [
    "# set the strike price (should be within the low and the high value of the uncertainty)\n",
    "strike_price = 2\n",
    "\n",
    "# set the approximation scaling for the payoff function\n",
    "c_approx = 0.25\n",
    "\n",
    "# construct circuit factory for payoff function\n",
    "european_call = EuropeanCallExpectedValue(\n",
    "    uncertainty_model,\n",
    "    strike_price=strike_price,\n",
    "    c_approx=c_approx\n",
    ")"
   ]
  },
  {
   "cell_type": "markdown",
   "metadata": {},
   "source": [
    "### Plot the probability distribution\n",
    "Next, we plot the trained probability distribution and, for reasons of comparison, also the target probability distribution."
   ]
  },
  {
   "cell_type": "code",
   "execution_count": 4,
   "metadata": {
    "ExecuteTime": {
     "end_time": "2020-07-13T20:54:15.764662Z",
     "start_time": "2020-07-13T20:54:15.156034Z"
    },
    "tags": [
     "nbsphinx-thumbnail"
    ]
   },
   "outputs": [
    {
     "name": "stderr",
     "output_type": "stream",
     "text": [
      "/opt/miniconda3/envs/qiskit/lib/python3.7/site-packages/ipykernel_launcher.py:6: DeprecationWarning: The qiskit.aqua.components.variational_forms.RY object is deprecated as of 0.7.0 and will be removed no sooner than 3 months after the release. You should use qiskit.circuit.library.RealAmplitudes (uses CX entangling) or qiskit.circuit.library.TwoLocal instead.\n",
      "  \n"
     ]
    },
    {
     "data": {
      "image/png": "[encoded data removed]",
      "text/plain": [
       "<Figure size 432x288 with 1 Axes>"
      ]
     },
     "metadata": {
      "needs_background": "light"
     },
     "output_type": "display_data"
    }
   ],
   "source": [
    "#trained probability distribution\n",
    "init_distribution = np.sqrt(init_dist.probabilities)\n",
    "init_distribution = Custom(num_qubits=sum(num_qubits), state_vector=init_distribution)\n",
    "\n",
    "var_form = RY(int(np.sum(num_qubits)), depth=1, initial_state=init_distribution,\n",
    "              entangler_map=entangler_map, entanglement_gate='cz')\n",
    "theta = ParameterVector('θ', var_form.num_parameters)\n",
    "var_form = var_form.construct_circuit(theta)\n",
    "g_circuit = UnivariateVariationalDistribution(int(sum(num_qubits)), var_form, g_params, low=bounds[0], high=bounds[1])\n",
    "g_circuit._var_form_params = theta\n",
    "uncertainty_model = g_circuit\n",
    "uncertainty_model.set_probabilities(QuantumInstance(Aer.get_backend('statevector_simulator')))\n",
    "x = uncertainty_model.values\n",
    "y = uncertainty_model.probabilities\n",
    "#target probability distribution\n",
    "N = 100000\n",
    "log_normal = np.random.lognormal(mean=1, sigma=1, size=N)\n",
    "log_normal = np.round(log_normal)\n",
    "log_normal = log_normal[log_normal <= 7]\n",
    "\n",
    "log_normal_samples = []\n",
    "for i in range(8):\n",
    "    log_normal_samples += [np.sum(log_normal==i)]\n",
    "log_normal_samples = np.array(log_normal_samples / sum(log_normal_samples))\n",
    "\n",
    "\n",
    "plt.bar(x, y, width=0.2, label='trained distribution', color='royalblue')\n",
    "plt.xticks(x, size=15, rotation=90)\n",
    "plt.yticks(size=15)\n",
    "plt.grid()\n",
    "plt.xlabel('Spot Price at Maturity $S_T$ (\\$)', size=15)\n",
    "plt.ylabel('Probability ($\\%$)', size=15)\n",
    "plt.plot(log_normal_samples,'-o', color ='deepskyblue', label='target distribution', linewidth=4, markersize=12)\n",
    "plt.legend(loc='best')\n",
    "plt.show()"
   ]
  },
  {
   "cell_type": "markdown",
   "metadata": {},
   "source": [
    "### Evaluate Expected Payoff\n",
    "Now, the trained uncertainty model can be used to evaluate the expectation value of the option's payoff function analytically and with Quantum Amplitude Estimation."
   ]
  },
  {
   "cell_type": "code",
   "execution_count": 5,
   "metadata": {
    "ExecuteTime": {
     "end_time": "2020-07-13T20:54:35.397951Z",
     "start_time": "2020-07-13T20:54:15.766834Z"
    }
   },
   "outputs": [
    {
     "name": "stdout",
     "output_type": "stream",
     "text": [
      "Analytically calculated expected payoff w.r.t. the target distribution:  1.0671391492942388\n",
      "Analytically calculated expected payoff w.r.t. the trained distribution:  0.980530833264945\n",
      "Expected payoff calculated with Quantum Amplitude Estimation: \t1.2580\n",
      "Probability: \t0.8785\n"
     ]
    },
    {
     "data": {
      "image/png": "[encoded data removed]",
      "text/plain": [
       "<Figure size 432x288 with 1 Axes>"
      ]
     },
     "metadata": {
      "needs_background": "light"
     },
     "output_type": "display_data"
    }
   ],
   "source": [
    "payoff = np.array([0,0,0,1,2,3,4,5])\n",
    "ep = np.dot(log_normal_samples, payoff)\n",
    "print(\"Analytically calculated expected payoff w.r.t. the target distribution: \", ep)\n",
    "ep_trained = np.dot(y, payoff)\n",
    "print(\"Analytically calculated expected payoff w.r.t. the trained distribution: \", ep_trained)\n",
    "\n",
    "# set number of evaluation qubits (samples)\n",
    "m = 5\n",
    "\n",
    "# construct amplitude estimation \n",
    "ae = AmplitudeEstimation(m, european_call)\n",
    "# result = ae.run(quantum_instance=BasicAer.get_backend('qasm_simulator'), shots=100)\n",
    "result = ae.run(quantum_instance=Aer.get_backend('statevector_simulator'))\n",
    "print('Expected payoff calculated with Quantum Amplitude Estimation: \\t%.4f' % result['estimation'])\n",
    "print('Probability: \\t%.4f' % result['max_probability'])\n",
    "\n",
    "# plot exact payoff function (evaluated on the grid of the trained uncertainty model)\n",
    "x = uncertainty_model.values\n",
    "y_strike = np.maximum(0, x - strike_price)\n",
    "plt.plot(x, y_strike, 'ro-')\n",
    "plt.grid()\n",
    "plt.title('Payoff Function', size=15)\n",
    "plt.xlabel('Spot Price', size=15)\n",
    "plt.ylabel('Payoff', size=15)\n",
    "plt.xticks(x, size=15, rotation=90)\n",
    "plt.yticks(size=15)\n",
    "plt.show()"
   ]
  },
  {
   "cell_type": "code",
   "execution_count": 6,
   "metadata": {
    "ExecuteTime": {
     "end_time": "2020-07-13T20:54:35.972442Z",
     "start_time": "2020-07-13T20:54:35.400448Z"
    }
   },
   "outputs": [
    {
     "data": {
      "text/html": [
       "<h3>Version Information</h3><table><tr><th>Qiskit Software</th><th>Version</th></tr><tr><td>Qiskit</td><td>0.19.6</td></tr><tr><td>Terra</td><td>0.14.2</td></tr><tr><td>Aer</td><td>0.5.2</td></tr><tr><td>Ignis</td><td>0.3.3</td></tr><tr><td>Aqua</td><td>0.7.3</td></tr><tr><td>IBM Q Provider</td><td>0.7.2</td></tr><tr><th>System information</th></tr><tr><td>Python</td><td>3.7.7 (default, May  6 2020, 04:59:01) \n",
       "[Clang 4.0.1 (tags/RELEASE_401/final)]</td></tr><tr><td>OS</td><td>Darwin</td></tr><tr><td>CPUs</td><td>4</td></tr><tr><td>Memory (Gb)</td><td>16.0</td></tr><tr><td colspan='2'>Mon Jul 13 16:54:35 2020 EDT</td></tr></table>"
      ],
      "text/plain": [
       "<IPython.core.display.HTML object>"
      ]
     },
     "metadata": {},
     "output_type": "display_data"
    },
    {
     "data": {
      "text/html": [
       "<div style='width: 100%; background-color:#d5d9e0;padding-left: 10px; padding-bottom: 10px; padding-right: 10px; padding-top: 5px'><h3>This code is a part of Qiskit</h3><p>&copy; Copyright IBM 2017, 2020.</p><p>This code is licensed under the Apache License, Version 2.0. You may<br>obtain a copy of this license in the LICENSE.txt file in the root directory<br> of this source tree or at http://www.apache.org/licenses/LICENSE-2.0.<p>Any modifications or derivative works of this code must retain this<br>copyright notice, and modified files need to carry a notice indicating<br>that they have been altered from the originals.</p></div>"
      ],
      "text/plain": [
       "<IPython.core.display.HTML object>"
      ]
     },
     "metadata": {},
     "output_type": "display_data"
    }
   ],
   "source": [
    "import qiskit.tools.jupyter\n",
    "%qiskit_version_table\n",
    "%qiskit_copyright"
   ]
  },
  {
   "cell_type": "code",
   "execution_count": null,
   "metadata": {},
   "outputs": [],
   "source": []
  }
 ],
 "metadata": {
  "celltoolbar": "Tags",
  "kernelspec": {
   "display_name": "Python 3",
   "language": "python",
   "name": "python3"
  },
  "language_info": {
   "codemirror_mode": {
    "name": "ipython",
    "version": 3
   },
   "file_extension": ".py",
   "mimetype": "text/x-python",
   "name": "python",
   "nbconvert_exporter": "python",
   "pygments_lexer": "ipython3",
   "version": "3.7.7"
  },
  "varInspector": {
   "cols": {
    "lenName": 16,
    "lenType": 16,
    "lenVar": 40
   },
   "kernels_config": {
    "python": {
     "delete_cmd_postfix": "",
     "delete_cmd_prefix": "del ",
     "library": "var_list.py",
     "varRefreshCmd": "print(var_dic_list())"
    },
    "r": {
     "delete_cmd_postfix": ") ",
     "delete_cmd_prefix": "rm(",
     "library": "var_list.r",
     "varRefreshCmd": "cat(var_dic_list()) "
    }
   },
   "types_to_exclude": [
    "module",
    "function",
    "builtin_function_or_method",
    "instance",
    "_Feature"
   ],
   "window_display": false
  }
 },
 "nbformat": 4,
 "nbformat_minor": 2
}
